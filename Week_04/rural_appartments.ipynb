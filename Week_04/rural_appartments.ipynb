{
 "cells": [
  {
   "cell_type": "markdown",
   "metadata": {},
   "source": [
    "# Exploratory data analysis (EDA) of apartments data"
   ]
  },
  {
   "cell_type": "markdown",
   "metadata": {},
   "source": [
    "## Libraries and settings"
   ]
  },
  {
   "cell_type": "code",
   "execution_count": 1,
   "metadata": {},
   "outputs": [
    {
     "name": "stdout",
     "output_type": "stream",
     "text": [
      "/workspaces/data_analytics/Week_04\n"
     ]
    }
   ],
   "source": [
    "# Libraries\n",
    "import os\n",
    "import pandas as pd\n",
    "import numpy as np\n",
    "import seaborn as sns\n",
    "import matplotlib.pyplot as plt\n",
    "import statsmodels.api as sm\n",
    "import pylab as py\n",
    "\n",
    "# seaborn graphics settings\n",
    "sns.set(color_codes=True)\n",
    "\n",
    "# Ignore warnings\n",
    "import warnings\n",
    "warnings.filterwarnings(\"ignore\")\n",
    "\n",
    "# Show current working directory\n",
    "print(os.getcwd())"
   ]
  },
  {
   "cell_type": "markdown",
   "metadata": {},
   "source": [
    "## Univariate non-graphical exploratory data analysis (EDA)"
   ]
  },
  {
   "cell_type": "markdown",
   "metadata": {},
   "source": [
    "### Importing the enriched apartment data"
   ]
  },
  {
   "cell_type": "code",
   "execution_count": 2,
   "metadata": {},
   "outputs": [
    {
     "data": {
      "text/html": [
       "<div>\n",
       "<style scoped>\n",
       "    .dataframe tbody tr th:only-of-type {\n",
       "        vertical-align: middle;\n",
       "    }\n",
       "\n",
       "    .dataframe tbody tr th {\n",
       "        vertical-align: top;\n",
       "    }\n",
       "\n",
       "    .dataframe thead th {\n",
       "        text-align: right;\n",
       "    }\n",
       "</style>\n",
       "<table border=\"1\" class=\"dataframe\">\n",
       "  <thead>\n",
       "    <tr style=\"text-align: right;\">\n",
       "      <th></th>\n",
       "      <th>web-scraper-order</th>\n",
       "      <th>address_raw</th>\n",
       "      <th>lat</th>\n",
       "      <th>lon</th>\n",
       "      <th>bfs_number</th>\n",
       "      <th>bfs_name</th>\n",
       "      <th>rooms</th>\n",
       "      <th>area</th>\n",
       "      <th>luxurious</th>\n",
       "      <th>price</th>\n",
       "      <th>price_per_m2</th>\n",
       "      <th>pop</th>\n",
       "      <th>pop_dens</th>\n",
       "      <th>emp</th>\n",
       "      <th>frg_pct</th>\n",
       "      <th>mean_taxable_income</th>\n",
       "    </tr>\n",
       "  </thead>\n",
       "  <tbody>\n",
       "    <tr>\n",
       "      <th>0</th>\n",
       "      <td>1693998201-1</td>\n",
       "      <td>Neuhusstrasse 6, 8630 Rüti ZH, ZH</td>\n",
       "      <td>47.252171</td>\n",
       "      <td>8.845797</td>\n",
       "      <td>118</td>\n",
       "      <td>Rüti (ZH)</td>\n",
       "      <td>3.0</td>\n",
       "      <td>49.0</td>\n",
       "      <td>0</td>\n",
       "      <td>1441.0</td>\n",
       "      <td>29.41</td>\n",
       "      <td>12286</td>\n",
       "      <td>1221.272366</td>\n",
       "      <td>5053.0</td>\n",
       "      <td>24.841283</td>\n",
       "      <td>65362.042683</td>\n",
       "    </tr>\n",
       "    <tr>\n",
       "      <th>1</th>\n",
       "      <td>1693998233-172</td>\n",
       "      <td>Widacherstrasse 5, 8630 Rüti ZH, ZH</td>\n",
       "      <td>47.252087</td>\n",
       "      <td>8.854919</td>\n",
       "      <td>118</td>\n",
       "      <td>Rüti (ZH)</td>\n",
       "      <td>3.0</td>\n",
       "      <td>111.0</td>\n",
       "      <td>0</td>\n",
       "      <td>2600.0</td>\n",
       "      <td>23.42</td>\n",
       "      <td>12286</td>\n",
       "      <td>1221.272366</td>\n",
       "      <td>5053.0</td>\n",
       "      <td>24.841283</td>\n",
       "      <td>65362.042683</td>\n",
       "    </tr>\n",
       "    <tr>\n",
       "      <th>2</th>\n",
       "      <td>1693998256-331</td>\n",
       "      <td>Widenweg 14, 8630 Rüti ZH, ZH</td>\n",
       "      <td>47.253670</td>\n",
       "      <td>8.853993</td>\n",
       "      <td>118</td>\n",
       "      <td>Rüti (ZH)</td>\n",
       "      <td>3.0</td>\n",
       "      <td>58.0</td>\n",
       "      <td>0</td>\n",
       "      <td>1490.0</td>\n",
       "      <td>25.69</td>\n",
       "      <td>12286</td>\n",
       "      <td>1221.272366</td>\n",
       "      <td>5053.0</td>\n",
       "      <td>24.841283</td>\n",
       "      <td>65362.042683</td>\n",
       "    </tr>\n",
       "    <tr>\n",
       "      <th>3</th>\n",
       "      <td>1693998265-381</td>\n",
       "      <td>Rain 1, 8630 Rüti ZH, ZH</td>\n",
       "      <td>47.259834</td>\n",
       "      <td>8.851705</td>\n",
       "      <td>118</td>\n",
       "      <td>Rüti (ZH)</td>\n",
       "      <td>4.0</td>\n",
       "      <td>118.0</td>\n",
       "      <td>0</td>\n",
       "      <td>3240.0</td>\n",
       "      <td>27.46</td>\n",
       "      <td>12286</td>\n",
       "      <td>1221.272366</td>\n",
       "      <td>5053.0</td>\n",
       "      <td>24.841283</td>\n",
       "      <td>65362.042683</td>\n",
       "    </tr>\n",
       "    <tr>\n",
       "      <th>4</th>\n",
       "      <td>1693998276-419</td>\n",
       "      <td>Bachtelstrasse 24b, 8630 Rüti ZH, ZH</td>\n",
       "      <td>47.266113</td>\n",
       "      <td>8.866872</td>\n",
       "      <td>118</td>\n",
       "      <td>Rüti (ZH)</td>\n",
       "      <td>3.0</td>\n",
       "      <td>66.0</td>\n",
       "      <td>0</td>\n",
       "      <td>1450.0</td>\n",
       "      <td>21.97</td>\n",
       "      <td>12286</td>\n",
       "      <td>1221.272366</td>\n",
       "      <td>5053.0</td>\n",
       "      <td>24.841283</td>\n",
       "      <td>65362.042683</td>\n",
       "    </tr>\n",
       "  </tbody>\n",
       "</table>\n",
       "</div>"
      ],
      "text/plain": [
       "  web-scraper-order                           address_raw        lat  \\\n",
       "0      1693998201-1     Neuhusstrasse 6, 8630 Rüti ZH, ZH  47.252171   \n",
       "1    1693998233-172   Widacherstrasse 5, 8630 Rüti ZH, ZH  47.252087   \n",
       "2    1693998256-331         Widenweg 14, 8630 Rüti ZH, ZH  47.253670   \n",
       "3    1693998265-381              Rain 1, 8630 Rüti ZH, ZH  47.259834   \n",
       "4    1693998276-419  Bachtelstrasse 24b, 8630 Rüti ZH, ZH  47.266113   \n",
       "\n",
       "        lon  bfs_number   bfs_name  rooms   area  luxurious   price  \\\n",
       "0  8.845797         118  Rüti (ZH)    3.0   49.0          0  1441.0   \n",
       "1  8.854919         118  Rüti (ZH)    3.0  111.0          0  2600.0   \n",
       "2  8.853993         118  Rüti (ZH)    3.0   58.0          0  1490.0   \n",
       "3  8.851705         118  Rüti (ZH)    4.0  118.0          0  3240.0   \n",
       "4  8.866872         118  Rüti (ZH)    3.0   66.0          0  1450.0   \n",
       "\n",
       "   price_per_m2    pop     pop_dens     emp    frg_pct  mean_taxable_income  \n",
       "0         29.41  12286  1221.272366  5053.0  24.841283         65362.042683  \n",
       "1         23.42  12286  1221.272366  5053.0  24.841283         65362.042683  \n",
       "2         25.69  12286  1221.272366  5053.0  24.841283         65362.042683  \n",
       "3         27.46  12286  1221.272366  5053.0  24.841283         65362.042683  \n",
       "4         21.97  12286  1221.272366  5053.0  24.841283         65362.042683  "
      ]
     },
     "execution_count": 2,
     "metadata": {},
     "output_type": "execute_result"
    }
   ],
   "source": [
    "# Read and select variables\n",
    "df_orig = pd.read_csv(\"apartments_data_enriched.csv\")[['web-scraper-order',\n",
    "                                                        'address_raw',\n",
    "                                                        'lat',\n",
    "                                                        'lon',\n",
    "                                                        'bfs_number',\n",
    "                                                        'bfs_name',\n",
    "                                                        'rooms', \n",
    "                                                        'area', \n",
    "                                                        'luxurious', \n",
    "                                                        'price', \n",
    "                                                        'price_per_m2',\n",
    "                                                        'pop',\n",
    "                                                        'pop_dens',\n",
    "                                                        'emp',\n",
    "                                                        'frg_pct',\n",
    "                                                        'mean_taxable_income']]\n",
    "\n",
    "# Remove duplicates\n",
    "df_orig = df_orig.drop_duplicates()\n",
    "df_orig.head(5)\n",
    "\n",
    "# Remove missing values\n",
    "df_orig = df_orig.dropna()\n",
    "df_orig.head(5)"
   ]
  },
  {
   "cell_type": "markdown",
   "metadata": {},
   "source": [
    "### Quantiles original values"
   ]
  },
  {
   "cell_type": "code",
   "execution_count": 3,
   "metadata": {},
   "outputs": [
    {
     "data": {
      "text/html": [
       "<div>\n",
       "<style scoped>\n",
       "    .dataframe tbody tr th:only-of-type {\n",
       "        vertical-align: middle;\n",
       "    }\n",
       "\n",
       "    .dataframe tbody tr th {\n",
       "        vertical-align: top;\n",
       "    }\n",
       "\n",
       "    .dataframe thead th {\n",
       "        text-align: right;\n",
       "    }\n",
       "</style>\n",
       "<table border=\"1\" class=\"dataframe\">\n",
       "  <thead>\n",
       "    <tr style=\"text-align: right;\">\n",
       "      <th></th>\n",
       "      <th>price</th>\n",
       "      <th>rooms</th>\n",
       "      <th>area</th>\n",
       "      <th>price_per_m2</th>\n",
       "      <th>pop_dens</th>\n",
       "    </tr>\n",
       "  </thead>\n",
       "  <tbody>\n",
       "    <tr>\n",
       "      <th>0.05</th>\n",
       "      <td>1337.00</td>\n",
       "      <td>1.00</td>\n",
       "      <td>26.00</td>\n",
       "      <td>17.90</td>\n",
       "      <td>336.03</td>\n",
       "    </tr>\n",
       "    <tr>\n",
       "      <th>0.10</th>\n",
       "      <td>1492.50</td>\n",
       "      <td>1.50</td>\n",
       "      <td>41.50</td>\n",
       "      <td>20.02</td>\n",
       "      <td>525.66</td>\n",
       "    </tr>\n",
       "    <tr>\n",
       "      <th>0.25</th>\n",
       "      <td>1842.25</td>\n",
       "      <td>2.50</td>\n",
       "      <td>63.00</td>\n",
       "      <td>23.30</td>\n",
       "      <td>1044.63</td>\n",
       "    </tr>\n",
       "    <tr>\n",
       "      <th>0.50</th>\n",
       "      <td>2391.00</td>\n",
       "      <td>3.50</td>\n",
       "      <td>86.00</td>\n",
       "      <td>27.95</td>\n",
       "      <td>1662.60</td>\n",
       "    </tr>\n",
       "    <tr>\n",
       "      <th>0.75</th>\n",
       "      <td>3056.75</td>\n",
       "      <td>4.50</td>\n",
       "      <td>108.75</td>\n",
       "      <td>38.12</td>\n",
       "      <td>4778.99</td>\n",
       "    </tr>\n",
       "    <tr>\n",
       "      <th>0.90</th>\n",
       "      <td>3960.00</td>\n",
       "      <td>4.75</td>\n",
       "      <td>140.50</td>\n",
       "      <td>52.78</td>\n",
       "      <td>4778.99</td>\n",
       "    </tr>\n",
       "    <tr>\n",
       "      <th>0.95</th>\n",
       "      <td>4957.50</td>\n",
       "      <td>5.50</td>\n",
       "      <td>163.75</td>\n",
       "      <td>67.33</td>\n",
       "      <td>4778.99</td>\n",
       "    </tr>\n",
       "  </tbody>\n",
       "</table>\n",
       "</div>"
      ],
      "text/plain": [
       "        price  rooms    area  price_per_m2  pop_dens\n",
       "0.05  1337.00   1.00   26.00         17.90    336.03\n",
       "0.10  1492.50   1.50   41.50         20.02    525.66\n",
       "0.25  1842.25   2.50   63.00         23.30   1044.63\n",
       "0.50  2391.00   3.50   86.00         27.95   1662.60\n",
       "0.75  3056.75   4.50  108.75         38.12   4778.99\n",
       "0.90  3960.00   4.75  140.50         52.78   4778.99\n",
       "0.95  4957.50   5.50  163.75         67.33   4778.99"
      ]
     },
     "execution_count": 3,
     "metadata": {},
     "output_type": "execute_result"
    }
   ],
   "source": [
    "df_orig[['price','rooms', 'area', 'price_per_m2', 'pop_dens']].quantile(q=[0.05, 0.10, 0.25, 0.50, 0.75, 0.90, 0.95]).round(2)"
   ]
  },
  {
   "cell_type": "markdown",
   "metadata": {},
   "source": [
    "### Filter apartments"
   ]
  },
  {
   "cell_type": "code",
   "execution_count": 4,
   "metadata": {},
   "outputs": [],
   "source": [
    "# Filter apartments (replace '<= 5000' by the respective operator and quantile)\n",
    "df = df_orig.loc[df_orig['pop_dens'] <= 525.66]"
   ]
  },
  {
   "cell_type": "markdown",
   "metadata": {},
   "source": [
    "### Shape (number of rows and colums)"
   ]
  },
  {
   "cell_type": "code",
   "execution_count": 5,
   "metadata": {},
   "outputs": [
    {
     "name": "stdout",
     "output_type": "stream",
     "text": [
      "(78, 16)\n"
     ]
    }
   ],
   "source": [
    "# Number of rows and columns\n",
    "print(df.shape)"
   ]
  },
  {
   "cell_type": "markdown",
   "metadata": {},
   "source": [
    "### Data types"
   ]
  },
  {
   "cell_type": "code",
   "execution_count": 6,
   "metadata": {},
   "outputs": [
    {
     "data": {
      "text/plain": [
       "web-scraper-order       object\n",
       "address_raw             object\n",
       "lat                    float64\n",
       "lon                    float64\n",
       "bfs_number               int64\n",
       "bfs_name                object\n",
       "rooms                  float64\n",
       "area                   float64\n",
       "luxurious                int64\n",
       "price                  float64\n",
       "price_per_m2           float64\n",
       "pop                      int64\n",
       "pop_dens               float64\n",
       "emp                    float64\n",
       "frg_pct                float64\n",
       "mean_taxable_income    float64\n",
       "dtype: object"
      ]
     },
     "execution_count": 6,
     "metadata": {},
     "output_type": "execute_result"
    }
   ],
   "source": [
    "df.dtypes"
   ]
  },
  {
   "cell_type": "markdown",
   "metadata": {},
   "source": [
    "### Summary statistics of numeric variables"
   ]
  },
  {
   "cell_type": "code",
   "execution_count": 8,
   "metadata": {},
   "outputs": [
    {
     "data": {
      "text/html": [
       "<div>\n",
       "<style scoped>\n",
       "    .dataframe tbody tr th:only-of-type {\n",
       "        vertical-align: middle;\n",
       "    }\n",
       "\n",
       "    .dataframe tbody tr th {\n",
       "        vertical-align: top;\n",
       "    }\n",
       "\n",
       "    .dataframe thead th {\n",
       "        text-align: right;\n",
       "    }\n",
       "</style>\n",
       "<table border=\"1\" class=\"dataframe\">\n",
       "  <thead>\n",
       "    <tr style=\"text-align: right;\">\n",
       "      <th></th>\n",
       "      <th>lat</th>\n",
       "      <th>lon</th>\n",
       "      <th>bfs_number</th>\n",
       "      <th>rooms</th>\n",
       "      <th>area</th>\n",
       "      <th>luxurious</th>\n",
       "      <th>price</th>\n",
       "      <th>price_per_m2</th>\n",
       "      <th>pop</th>\n",
       "      <th>pop_dens</th>\n",
       "      <th>emp</th>\n",
       "      <th>frg_pct</th>\n",
       "      <th>mean_taxable_income</th>\n",
       "    </tr>\n",
       "  </thead>\n",
       "  <tbody>\n",
       "    <tr>\n",
       "      <th>count</th>\n",
       "      <td>78.000000</td>\n",
       "      <td>78.000000</td>\n",
       "      <td>78.000000</td>\n",
       "      <td>78.000000</td>\n",
       "      <td>78.000000</td>\n",
       "      <td>78.0</td>\n",
       "      <td>78.000000</td>\n",
       "      <td>78.000000</td>\n",
       "      <td>78.000000</td>\n",
       "      <td>78.000000</td>\n",
       "      <td>78.000000</td>\n",
       "      <td>78.000000</td>\n",
       "      <td>78.000000</td>\n",
       "    </tr>\n",
       "    <tr>\n",
       "      <th>mean</th>\n",
       "      <td>47.468179</td>\n",
       "      <td>8.651548</td>\n",
       "      <td>124.076923</td>\n",
       "      <td>4.326923</td>\n",
       "      <td>123.307692</td>\n",
       "      <td>0.0</td>\n",
       "      <td>2511.628205</td>\n",
       "      <td>22.132564</td>\n",
       "      <td>3858.307692</td>\n",
       "      <td>328.090441</td>\n",
       "      <td>1285.076923</td>\n",
       "      <td>16.061730</td>\n",
       "      <td>79108.721651</td>\n",
       "    </tr>\n",
       "    <tr>\n",
       "      <th>std</th>\n",
       "      <td>0.117655</td>\n",
       "      <td>0.162500</td>\n",
       "      <td>86.284153</td>\n",
       "      <td>1.074579</td>\n",
       "      <td>67.137445</td>\n",
       "      <td>0.0</td>\n",
       "      <td>640.757590</td>\n",
       "      <td>5.174302</td>\n",
       "      <td>2681.579440</td>\n",
       "      <td>125.445022</td>\n",
       "      <td>1513.260398</td>\n",
       "      <td>5.514609</td>\n",
       "      <td>9994.637362</td>\n",
       "    </tr>\n",
       "    <tr>\n",
       "      <th>min</th>\n",
       "      <td>47.224941</td>\n",
       "      <td>8.367652</td>\n",
       "      <td>1.000000</td>\n",
       "      <td>1.500000</td>\n",
       "      <td>46.000000</td>\n",
       "      <td>0.0</td>\n",
       "      <td>1420.000000</td>\n",
       "      <td>5.560000</td>\n",
       "      <td>698.000000</td>\n",
       "      <td>87.959866</td>\n",
       "      <td>144.000000</td>\n",
       "      <td>7.547170</td>\n",
       "      <td>62000.541872</td>\n",
       "    </tr>\n",
       "    <tr>\n",
       "      <th>25%</th>\n",
       "      <td>47.393183</td>\n",
       "      <td>8.486029</td>\n",
       "      <td>57.250000</td>\n",
       "      <td>3.500000</td>\n",
       "      <td>92.750000</td>\n",
       "      <td>0.0</td>\n",
       "      <td>2000.000000</td>\n",
       "      <td>19.132500</td>\n",
       "      <td>2112.000000</td>\n",
       "      <td>253.483693</td>\n",
       "      <td>478.250000</td>\n",
       "      <td>13.316640</td>\n",
       "      <td>72074.707090</td>\n",
       "    </tr>\n",
       "    <tr>\n",
       "      <th>50%</th>\n",
       "      <td>47.501123</td>\n",
       "      <td>8.673732</td>\n",
       "      <td>101.000000</td>\n",
       "      <td>4.500000</td>\n",
       "      <td>109.500000</td>\n",
       "      <td>0.0</td>\n",
       "      <td>2450.000000</td>\n",
       "      <td>22.190000</td>\n",
       "      <td>3073.000000</td>\n",
       "      <td>333.382789</td>\n",
       "      <td>843.000000</td>\n",
       "      <td>15.534578</td>\n",
       "      <td>77017.213664</td>\n",
       "    </tr>\n",
       "    <tr>\n",
       "      <th>75%</th>\n",
       "      <td>47.547449</td>\n",
       "      <td>8.799088</td>\n",
       "      <td>211.000000</td>\n",
       "      <td>5.250000</td>\n",
       "      <td>134.500000</td>\n",
       "      <td>0.0</td>\n",
       "      <td>2850.000000</td>\n",
       "      <td>25.162500</td>\n",
       "      <td>5118.250000</td>\n",
       "      <td>448.613139</td>\n",
       "      <td>1447.000000</td>\n",
       "      <td>19.114605</td>\n",
       "      <td>84024.142038</td>\n",
       "    </tr>\n",
       "    <tr>\n",
       "      <th>max</th>\n",
       "      <td>47.675091</td>\n",
       "      <td>8.915933</td>\n",
       "      <td>298.000000</td>\n",
       "      <td>6.500000</td>\n",
       "      <td>585.000000</td>\n",
       "      <td>0.0</td>\n",
       "      <td>4600.000000</td>\n",
       "      <td>35.000000</td>\n",
       "      <td>11277.000000</td>\n",
       "      <td>513.570487</td>\n",
       "      <td>6999.000000</td>\n",
       "      <td>27.126628</td>\n",
       "      <td>105013.570634</td>\n",
       "    </tr>\n",
       "  </tbody>\n",
       "</table>\n",
       "</div>"
      ],
      "text/plain": [
       "             lat        lon  bfs_number      rooms        area  luxurious  \\\n",
       "count  78.000000  78.000000   78.000000  78.000000   78.000000       78.0   \n",
       "mean   47.468179   8.651548  124.076923   4.326923  123.307692        0.0   \n",
       "std     0.117655   0.162500   86.284153   1.074579   67.137445        0.0   \n",
       "min    47.224941   8.367652    1.000000   1.500000   46.000000        0.0   \n",
       "25%    47.393183   8.486029   57.250000   3.500000   92.750000        0.0   \n",
       "50%    47.501123   8.673732  101.000000   4.500000  109.500000        0.0   \n",
       "75%    47.547449   8.799088  211.000000   5.250000  134.500000        0.0   \n",
       "max    47.675091   8.915933  298.000000   6.500000  585.000000        0.0   \n",
       "\n",
       "             price  price_per_m2           pop    pop_dens          emp  \\\n",
       "count    78.000000     78.000000     78.000000   78.000000    78.000000   \n",
       "mean   2511.628205     22.132564   3858.307692  328.090441  1285.076923   \n",
       "std     640.757590      5.174302   2681.579440  125.445022  1513.260398   \n",
       "min    1420.000000      5.560000    698.000000   87.959866   144.000000   \n",
       "25%    2000.000000     19.132500   2112.000000  253.483693   478.250000   \n",
       "50%    2450.000000     22.190000   3073.000000  333.382789   843.000000   \n",
       "75%    2850.000000     25.162500   5118.250000  448.613139  1447.000000   \n",
       "max    4600.000000     35.000000  11277.000000  513.570487  6999.000000   \n",
       "\n",
       "         frg_pct  mean_taxable_income  \n",
       "count  78.000000            78.000000  \n",
       "mean   16.061730         79108.721651  \n",
       "std     5.514609          9994.637362  \n",
       "min     7.547170         62000.541872  \n",
       "25%    13.316640         72074.707090  \n",
       "50%    15.534578         77017.213664  \n",
       "75%    19.114605         84024.142038  \n",
       "max    27.126628        105013.570634  "
      ]
     },
     "execution_count": 8,
     "metadata": {},
     "output_type": "execute_result"
    }
   ],
   "source": [
    "df.describe()"
   ]
  },
  {
   "cell_type": "markdown",
   "metadata": {},
   "source": [
    "### Statistical measures (min, max, std, mean, median, count) for selected variables"
   ]
  },
  {
   "cell_type": "code",
   "execution_count": 9,
   "metadata": {},
   "outputs": [
    {
     "name": "stdout",
     "output_type": "stream",
     "text": [
      "Price: Count: 786 Min: 10.0 Max: 9950.0 Mean: 2649.3 Median: 2391.0 Std: 1289.1\n",
      "Area: Count: 786 Min: 8.0 Max: 1633.0 Mean: 92.4 Median: 86.0 Std: 75.8\n"
     ]
    }
   ],
   "source": [
    "# Price\n",
    "print('Price:',\n",
    "      'Count:', round(df.price.count(), 1),\n",
    "      'Min:', round(df.price.min(), 1),\n",
    "      'Max:', round(df.price.max(), 1),\n",
    "      'Mean:', round(df.price.mean(), 1),\n",
    "      'Median:', round(df.price.median(), 1),\n",
    "      'Std:', round(df.price.std(), 1))\n",
    "\n",
    "# Area\n",
    "print('Area:',\n",
    "      'Count:', round(df.area.count(), 1),\n",
    "      'Min:', round(df.area.min(), 1),\n",
    "      'Max:', round(df.area.max(), 1),\n",
    "      'Mean:', round(df.area.mean(), 1),\n",
    "      'Median:', round(df.area.median(), 1),\n",
    "      'Std:', round(df.area.std(), 1))"
   ]
  },
  {
   "cell_type": "markdown",
   "metadata": {},
   "source": [
    "### Skewness"
   ]
  },
  {
   "cell_type": "code",
   "execution_count": 11,
   "metadata": {},
   "outputs": [
    {
     "data": {
      "text/plain": [
       "price     2.093405\n",
       "rooms     0.209733\n",
       "area     12.529695\n",
       "dtype: float64"
      ]
     },
     "execution_count": 11,
     "metadata": {},
     "output_type": "execute_result"
    }
   ],
   "source": [
    "df[['price','rooms', 'area']].skew()"
   ]
  },
  {
   "cell_type": "markdown",
   "metadata": {},
   "source": [
    "### Kurtosis"
   ]
  },
  {
   "cell_type": "code",
   "execution_count": 12,
   "metadata": {},
   "outputs": [
    {
     "data": {
      "text/plain": [
       "price      6.668070\n",
       "rooms      0.085123\n",
       "area     232.607355\n",
       "dtype: float64"
      ]
     },
     "execution_count": 12,
     "metadata": {},
     "output_type": "execute_result"
    }
   ],
   "source": [
    "df[['price','rooms', 'area']].kurtosis()"
   ]
  },
  {
   "cell_type": "markdown",
   "metadata": {},
   "source": [
    "### Extreme values"
   ]
  },
  {
   "cell_type": "code",
   "execution_count": 13,
   "metadata": {},
   "outputs": [
    {
     "data": {
      "text/html": [
       "<div>\n",
       "<style scoped>\n",
       "    .dataframe tbody tr th:only-of-type {\n",
       "        vertical-align: middle;\n",
       "    }\n",
       "\n",
       "    .dataframe tbody tr th {\n",
       "        vertical-align: top;\n",
       "    }\n",
       "\n",
       "    .dataframe thead th {\n",
       "        text-align: right;\n",
       "    }\n",
       "</style>\n",
       "<table border=\"1\" class=\"dataframe\">\n",
       "  <thead>\n",
       "    <tr style=\"text-align: right;\">\n",
       "      <th></th>\n",
       "      <th>web-scraper-order</th>\n",
       "      <th>address_raw</th>\n",
       "      <th>lat</th>\n",
       "      <th>lon</th>\n",
       "      <th>bfs_number</th>\n",
       "      <th>bfs_name</th>\n",
       "      <th>rooms</th>\n",
       "      <th>area</th>\n",
       "      <th>luxurious</th>\n",
       "      <th>price</th>\n",
       "      <th>price_per_m2</th>\n",
       "      <th>pop</th>\n",
       "      <th>pop_dens</th>\n",
       "      <th>emp</th>\n",
       "      <th>frg_pct</th>\n",
       "      <th>mean_taxable_income</th>\n",
       "    </tr>\n",
       "  </thead>\n",
       "  <tbody>\n",
       "    <tr>\n",
       "      <th>183</th>\n",
       "      <td>1693998317-653</td>\n",
       "      <td>8001 Zürich, ZH</td>\n",
       "      <td>47.374966</td>\n",
       "      <td>8.543989</td>\n",
       "      <td>261</td>\n",
       "      <td>Zürich</td>\n",
       "      <td>4.5</td>\n",
       "      <td>137.0</td>\n",
       "      <td>0</td>\n",
       "      <td>16.0</td>\n",
       "      <td>0.12</td>\n",
       "      <td>420217</td>\n",
       "      <td>4778.994655</td>\n",
       "      <td>491193.0</td>\n",
       "      <td>32.458468</td>\n",
       "      <td>82932.737704</td>\n",
       "    </tr>\n",
       "    <tr>\n",
       "      <th>198</th>\n",
       "      <td>1693998326-702</td>\n",
       "      <td>Hohenbühlstrasse 7, 8032 Zürich, ZH</td>\n",
       "      <td>47.366306</td>\n",
       "      <td>8.551867</td>\n",
       "      <td>261</td>\n",
       "      <td>Zürich</td>\n",
       "      <td>5.5</td>\n",
       "      <td>183.0</td>\n",
       "      <td>0</td>\n",
       "      <td>10.0</td>\n",
       "      <td>0.05</td>\n",
       "      <td>420217</td>\n",
       "      <td>4778.994655</td>\n",
       "      <td>491193.0</td>\n",
       "      <td>32.458468</td>\n",
       "      <td>82932.737704</td>\n",
       "    </tr>\n",
       "    <tr>\n",
       "      <th>404</th>\n",
       "      <td>1693998205-39</td>\n",
       "      <td>Binzigerstrasse 52, 8707 Uetikon am See, ZH</td>\n",
       "      <td>47.267185</td>\n",
       "      <td>8.689932</td>\n",
       "      <td>159</td>\n",
       "      <td>Uetikon am See</td>\n",
       "      <td>6.5</td>\n",
       "      <td>300.0</td>\n",
       "      <td>1</td>\n",
       "      <td>11.0</td>\n",
       "      <td>0.04</td>\n",
       "      <td>6201</td>\n",
       "      <td>1792.196532</td>\n",
       "      <td>1480.0</td>\n",
       "      <td>21.270763</td>\n",
       "      <td>118977.376698</td>\n",
       "    </tr>\n",
       "    <tr>\n",
       "      <th>511</th>\n",
       "      <td>1693998369-926</td>\n",
       "      <td>Dorfstrasse 2, 8309 Nürensdorf, ZH</td>\n",
       "      <td>47.458389</td>\n",
       "      <td>8.638629</td>\n",
       "      <td>64</td>\n",
       "      <td>Nürensdorf</td>\n",
       "      <td>6.5</td>\n",
       "      <td>863.0</td>\n",
       "      <td>0</td>\n",
       "      <td>4500.0</td>\n",
       "      <td>5.21</td>\n",
       "      <td>5602</td>\n",
       "      <td>557.968127</td>\n",
       "      <td>1031.0</td>\n",
       "      <td>16.815423</td>\n",
       "      <td>99039.717665</td>\n",
       "    </tr>\n",
       "    <tr>\n",
       "      <th>584</th>\n",
       "      <td>1693998289-482</td>\n",
       "      <td>Lärchenstrasse 6, 8442 Hettlingen, ZH</td>\n",
       "      <td>47.547836</td>\n",
       "      <td>8.717198</td>\n",
       "      <td>221</td>\n",
       "      <td>Hettlingen</td>\n",
       "      <td>6.0</td>\n",
       "      <td>1633.0</td>\n",
       "      <td>0</td>\n",
       "      <td>3900.0</td>\n",
       "      <td>2.39</td>\n",
       "      <td>3169</td>\n",
       "      <td>537.118644</td>\n",
       "      <td>702.0</td>\n",
       "      <td>9.056485</td>\n",
       "      <td>101569.727626</td>\n",
       "    </tr>\n",
       "    <tr>\n",
       "      <th>762</th>\n",
       "      <td>1693998280-447</td>\n",
       "      <td>Grabenwiese 2, 8484 Weisslingen, ZH</td>\n",
       "      <td>47.426781</td>\n",
       "      <td>8.767586</td>\n",
       "      <td>180</td>\n",
       "      <td>Weisslingen</td>\n",
       "      <td>6.5</td>\n",
       "      <td>585.0</td>\n",
       "      <td>0</td>\n",
       "      <td>3250.0</td>\n",
       "      <td>5.56</td>\n",
       "      <td>3364</td>\n",
       "      <td>262.607338</td>\n",
       "      <td>886.0</td>\n",
       "      <td>10.434007</td>\n",
       "      <td>84173.291925</td>\n",
       "    </tr>\n",
       "  </tbody>\n",
       "</table>\n",
       "</div>"
      ],
      "text/plain": [
       "    web-scraper-order                                  address_raw        lat  \\\n",
       "183    1693998317-653                              8001 Zürich, ZH  47.374966   \n",
       "198    1693998326-702          Hohenbühlstrasse 7, 8032 Zürich, ZH  47.366306   \n",
       "404     1693998205-39  Binzigerstrasse 52, 8707 Uetikon am See, ZH  47.267185   \n",
       "511    1693998369-926           Dorfstrasse 2, 8309 Nürensdorf, ZH  47.458389   \n",
       "584    1693998289-482        Lärchenstrasse 6, 8442 Hettlingen, ZH  47.547836   \n",
       "762    1693998280-447          Grabenwiese 2, 8484 Weisslingen, ZH  47.426781   \n",
       "\n",
       "          lon  bfs_number        bfs_name  rooms    area  luxurious   price  \\\n",
       "183  8.543989         261          Zürich    4.5   137.0          0    16.0   \n",
       "198  8.551867         261          Zürich    5.5   183.0          0    10.0   \n",
       "404  8.689932         159  Uetikon am See    6.5   300.0          1    11.0   \n",
       "511  8.638629          64      Nürensdorf    6.5   863.0          0  4500.0   \n",
       "584  8.717198         221      Hettlingen    6.0  1633.0          0  3900.0   \n",
       "762  8.767586         180     Weisslingen    6.5   585.0          0  3250.0   \n",
       "\n",
       "     price_per_m2     pop     pop_dens       emp    frg_pct  \\\n",
       "183          0.12  420217  4778.994655  491193.0  32.458468   \n",
       "198          0.05  420217  4778.994655  491193.0  32.458468   \n",
       "404          0.04    6201  1792.196532    1480.0  21.270763   \n",
       "511          5.21    5602   557.968127    1031.0  16.815423   \n",
       "584          2.39    3169   537.118644     702.0   9.056485   \n",
       "762          5.56    3364   262.607338     886.0  10.434007   \n",
       "\n",
       "     mean_taxable_income  \n",
       "183         82932.737704  \n",
       "198         82932.737704  \n",
       "404        118977.376698  \n",
       "511         99039.717665  \n",
       "584        101569.727626  \n",
       "762         84173.291925  "
      ]
     },
     "execution_count": 13,
     "metadata": {},
     "output_type": "execute_result"
    }
   ],
   "source": [
    "# Low costs apartments\n",
    "df[df['price_per_m2'] <= 10]"
   ]
  },
  {
   "cell_type": "code",
   "execution_count": 14,
   "metadata": {},
   "outputs": [
    {
     "data": {
      "text/html": [
       "<div>\n",
       "<style scoped>\n",
       "    .dataframe tbody tr th:only-of-type {\n",
       "        vertical-align: middle;\n",
       "    }\n",
       "\n",
       "    .dataframe tbody tr th {\n",
       "        vertical-align: top;\n",
       "    }\n",
       "\n",
       "    .dataframe thead th {\n",
       "        text-align: right;\n",
       "    }\n",
       "</style>\n",
       "<table border=\"1\" class=\"dataframe\">\n",
       "  <thead>\n",
       "    <tr style=\"text-align: right;\">\n",
       "      <th></th>\n",
       "      <th>web-scraper-order</th>\n",
       "      <th>address_raw</th>\n",
       "      <th>lat</th>\n",
       "      <th>lon</th>\n",
       "      <th>bfs_number</th>\n",
       "      <th>bfs_name</th>\n",
       "      <th>rooms</th>\n",
       "      <th>area</th>\n",
       "      <th>luxurious</th>\n",
       "      <th>price</th>\n",
       "      <th>price_per_m2</th>\n",
       "      <th>pop</th>\n",
       "      <th>pop_dens</th>\n",
       "      <th>emp</th>\n",
       "      <th>frg_pct</th>\n",
       "      <th>mean_taxable_income</th>\n",
       "    </tr>\n",
       "  </thead>\n",
       "  <tbody>\n",
       "    <tr>\n",
       "      <th>11</th>\n",
       "      <td>1693998201-16</td>\n",
       "      <td>Wolframplatz 1, 8045 Zürich, ZH</td>\n",
       "      <td>47.362282</td>\n",
       "      <td>8.522193</td>\n",
       "      <td>261</td>\n",
       "      <td>Zürich</td>\n",
       "      <td>2.0</td>\n",
       "      <td>32.0</td>\n",
       "      <td>0</td>\n",
       "      <td>3515.0</td>\n",
       "      <td>109.84</td>\n",
       "      <td>420217</td>\n",
       "      <td>4778.994655</td>\n",
       "      <td>491193.0</td>\n",
       "      <td>32.458468</td>\n",
       "      <td>82932.737704</td>\n",
       "    </tr>\n",
       "    <tr>\n",
       "      <th>20</th>\n",
       "      <td>1693998214-82</td>\n",
       "      <td>Baurstrasse 29, 8008 Zürich, ZH</td>\n",
       "      <td>47.355923</td>\n",
       "      <td>8.554498</td>\n",
       "      <td>261</td>\n",
       "      <td>Zürich</td>\n",
       "      <td>1.5</td>\n",
       "      <td>30.0</td>\n",
       "      <td>0</td>\n",
       "      <td>3790.0</td>\n",
       "      <td>126.33</td>\n",
       "      <td>420217</td>\n",
       "      <td>4778.994655</td>\n",
       "      <td>491193.0</td>\n",
       "      <td>32.458468</td>\n",
       "      <td>82932.737704</td>\n",
       "    </tr>\n",
       "    <tr>\n",
       "      <th>21</th>\n",
       "      <td>1693998214-83</td>\n",
       "      <td>Baurstrasse 29, 8008 Zürich, ZH</td>\n",
       "      <td>47.355923</td>\n",
       "      <td>8.554498</td>\n",
       "      <td>261</td>\n",
       "      <td>Zürich</td>\n",
       "      <td>1.5</td>\n",
       "      <td>25.0</td>\n",
       "      <td>0</td>\n",
       "      <td>3490.0</td>\n",
       "      <td>139.60</td>\n",
       "      <td>420217</td>\n",
       "      <td>4778.994655</td>\n",
       "      <td>491193.0</td>\n",
       "      <td>32.458468</td>\n",
       "      <td>82932.737704</td>\n",
       "    </tr>\n",
       "    <tr>\n",
       "      <th>107</th>\n",
       "      <td>1693998280-434</td>\n",
       "      <td>Neugasse 40, 8005 Zürich, ZH</td>\n",
       "      <td>47.382469</td>\n",
       "      <td>8.530180</td>\n",
       "      <td>261</td>\n",
       "      <td>Zürich</td>\n",
       "      <td>1.0</td>\n",
       "      <td>11.0</td>\n",
       "      <td>0</td>\n",
       "      <td>1120.0</td>\n",
       "      <td>101.82</td>\n",
       "      <td>420217</td>\n",
       "      <td>4778.994655</td>\n",
       "      <td>491193.0</td>\n",
       "      <td>32.458468</td>\n",
       "      <td>82932.737704</td>\n",
       "    </tr>\n",
       "    <tr>\n",
       "      <th>154</th>\n",
       "      <td>1693998305-585</td>\n",
       "      <td>Steinstrasse 35, 8003 Zürich, ZH</td>\n",
       "      <td>47.366997</td>\n",
       "      <td>8.520324</td>\n",
       "      <td>261</td>\n",
       "      <td>Zürich</td>\n",
       "      <td>1.0</td>\n",
       "      <td>15.0</td>\n",
       "      <td>0</td>\n",
       "      <td>1500.0</td>\n",
       "      <td>100.00</td>\n",
       "      <td>420217</td>\n",
       "      <td>4778.994655</td>\n",
       "      <td>491193.0</td>\n",
       "      <td>32.458468</td>\n",
       "      <td>82932.737704</td>\n",
       "    </tr>\n",
       "    <tr>\n",
       "      <th>171</th>\n",
       "      <td>1693998309-621</td>\n",
       "      <td>Baurstrasse 29, 8008 Zürich, ZH</td>\n",
       "      <td>47.355923</td>\n",
       "      <td>8.554498</td>\n",
       "      <td>261</td>\n",
       "      <td>Zürich</td>\n",
       "      <td>1.5</td>\n",
       "      <td>30.0</td>\n",
       "      <td>0</td>\n",
       "      <td>3890.0</td>\n",
       "      <td>129.67</td>\n",
       "      <td>420217</td>\n",
       "      <td>4778.994655</td>\n",
       "      <td>491193.0</td>\n",
       "      <td>32.458468</td>\n",
       "      <td>82932.737704</td>\n",
       "    </tr>\n",
       "    <tr>\n",
       "      <th>185</th>\n",
       "      <td>1693998317-658</td>\n",
       "      <td>8004 Zürich, ZH</td>\n",
       "      <td>47.380417</td>\n",
       "      <td>8.525352</td>\n",
       "      <td>261</td>\n",
       "      <td>Zürich</td>\n",
       "      <td>1.0</td>\n",
       "      <td>10.0</td>\n",
       "      <td>0</td>\n",
       "      <td>1499.0</td>\n",
       "      <td>149.90</td>\n",
       "      <td>420217</td>\n",
       "      <td>4778.994655</td>\n",
       "      <td>491193.0</td>\n",
       "      <td>32.458468</td>\n",
       "      <td>82932.737704</td>\n",
       "    </tr>\n",
       "  </tbody>\n",
       "</table>\n",
       "</div>"
      ],
      "text/plain": [
       "    web-scraper-order                       address_raw        lat       lon  \\\n",
       "11      1693998201-16   Wolframplatz 1, 8045 Zürich, ZH  47.362282  8.522193   \n",
       "20      1693998214-82   Baurstrasse 29, 8008 Zürich, ZH  47.355923  8.554498   \n",
       "21      1693998214-83   Baurstrasse 29, 8008 Zürich, ZH  47.355923  8.554498   \n",
       "107    1693998280-434      Neugasse 40, 8005 Zürich, ZH  47.382469  8.530180   \n",
       "154    1693998305-585  Steinstrasse 35, 8003 Zürich, ZH  47.366997  8.520324   \n",
       "171    1693998309-621   Baurstrasse 29, 8008 Zürich, ZH  47.355923  8.554498   \n",
       "185    1693998317-658                   8004 Zürich, ZH  47.380417  8.525352   \n",
       "\n",
       "     bfs_number bfs_name  rooms  area  luxurious   price  price_per_m2  \\\n",
       "11          261   Zürich    2.0  32.0          0  3515.0        109.84   \n",
       "20          261   Zürich    1.5  30.0          0  3790.0        126.33   \n",
       "21          261   Zürich    1.5  25.0          0  3490.0        139.60   \n",
       "107         261   Zürich    1.0  11.0          0  1120.0        101.82   \n",
       "154         261   Zürich    1.0  15.0          0  1500.0        100.00   \n",
       "171         261   Zürich    1.5  30.0          0  3890.0        129.67   \n",
       "185         261   Zürich    1.0  10.0          0  1499.0        149.90   \n",
       "\n",
       "        pop     pop_dens       emp    frg_pct  mean_taxable_income  \n",
       "11   420217  4778.994655  491193.0  32.458468         82932.737704  \n",
       "20   420217  4778.994655  491193.0  32.458468         82932.737704  \n",
       "21   420217  4778.994655  491193.0  32.458468         82932.737704  \n",
       "107  420217  4778.994655  491193.0  32.458468         82932.737704  \n",
       "154  420217  4778.994655  491193.0  32.458468         82932.737704  \n",
       "171  420217  4778.994655  491193.0  32.458468         82932.737704  \n",
       "185  420217  4778.994655  491193.0  32.458468         82932.737704  "
      ]
     },
     "execution_count": 14,
     "metadata": {},
     "output_type": "execute_result"
    }
   ],
   "source": [
    "# Very expansive apartments\n",
    "df[df['price_per_m2'] >= 100]"
   ]
  },
  {
   "cell_type": "markdown",
   "metadata": {},
   "source": [
    "### Get a list of categories of categorical variable"
   ]
  },
  {
   "cell_type": "code",
   "execution_count": 15,
   "metadata": {},
   "outputs": [
    {
     "data": {
      "text/plain": [
       "array(['Adliswil', 'Aeugst am Albis', 'Affoltern am Albis', 'Altikon',\n",
       "       'Andelfingen', 'Bachenbülach', 'Bassersdorf', 'Bauma',\n",
       "       'Bonstetten', 'Brütten', 'Bülach', 'Dielsdorf', 'Dietikon',\n",
       "       'Dietlikon', 'Dättlikon', 'Dübendorf', 'Dürnten', 'Egg', 'Eglisau',\n",
       "       'Elsau', 'Embrach', 'Fehraltorf', 'Feuerthalen',\n",
       "       'Freienstein-Teufen', 'Fällanden', 'Glattfelden', 'Gossau (ZH)',\n",
       "       'Greifensee', 'Hausen am Albis', 'Hedingen', 'Herrliberg',\n",
       "       'Hettlingen', 'Hinwil', 'Hittnau', 'Hochfelden', 'Hombrechtikon',\n",
       "       'Höri', 'Hüttikon', 'Kloten', 'Knonau', 'Küsnacht (ZH)',\n",
       "       'Langnau am Albis', 'Laufen-Uhwiesen', 'Lindau', 'Lufingen',\n",
       "       'Maur', 'Meilen', 'Mettmenstetten', 'Männedorf', 'Mönchaltorf',\n",
       "       'Neerach', 'Neftenbach', 'Niederglatt', 'Niederhasli',\n",
       "       'Niederweningen', 'Nürensdorf', 'Oberengstringen', 'Oberglatt',\n",
       "       'Obfelden', 'Oetwil am See', 'Oetwil an der Limmat', 'Opfikon',\n",
       "       'Ossingen', 'Pfungen', 'Pfäffikon', 'Regensdorf', 'Rheinau',\n",
       "       'Richterswil', 'Rickenbach (ZH)', 'Rorbas', 'Russikon', 'Rümlang',\n",
       "       'Rüschlikon', 'Rüti (ZH)', 'Schlatt (ZH)', 'Schlieren',\n",
       "       'Schwerzenbach', 'Seuzach', 'Stadel', 'Stallikon', 'Steinmaur',\n",
       "       'Stäfa', 'Thalwil', 'Trüllikon', 'Uetikon am See', 'Uitikon',\n",
       "       'Urdorf', 'Uster', 'Volketswil', 'Wald (ZH)', 'Wallisellen',\n",
       "       'Wangen-Brüttisellen', 'Weiach', 'Weiningen (ZH)', 'Weisslingen',\n",
       "       'Wettswil am Albis', 'Wetzikon (ZH)', 'Wiesendangen', 'Wila',\n",
       "       'Winkel', 'Winterthur', 'Zell (ZH)', 'Zollikon', 'Zürich'],\n",
       "      dtype=object)"
      ]
     },
     "execution_count": 15,
     "metadata": {},
     "output_type": "execute_result"
    }
   ],
   "source": [
    "np.array(pd.Categorical(df['bfs_name']).categories)"
   ]
  },
  {
   "cell_type": "markdown",
   "metadata": {},
   "source": [
    "## Multivariate non-graphical exploratory data analysis (EDA)"
   ]
  },
  {
   "cell_type": "markdown",
   "metadata": {},
   "source": [
    "### Cross-tabulation"
   ]
  },
  {
   "cell_type": "code",
   "execution_count": 16,
   "metadata": {},
   "outputs": [
    {
     "data": {
      "text/html": [
       "<div>\n",
       "<style scoped>\n",
       "    .dataframe tbody tr th:only-of-type {\n",
       "        vertical-align: middle;\n",
       "    }\n",
       "\n",
       "    .dataframe tbody tr th {\n",
       "        vertical-align: top;\n",
       "    }\n",
       "\n",
       "    .dataframe thead th {\n",
       "        text-align: right;\n",
       "    }\n",
       "</style>\n",
       "<table border=\"1\" class=\"dataframe\">\n",
       "  <thead>\n",
       "    <tr style=\"text-align: right;\">\n",
       "      <th>rooms</th>\n",
       "      <th>1.0</th>\n",
       "      <th>1.5</th>\n",
       "      <th>2.0</th>\n",
       "      <th>2.5</th>\n",
       "      <th>3.0</th>\n",
       "      <th>3.5</th>\n",
       "      <th>4.0</th>\n",
       "      <th>4.5</th>\n",
       "      <th>5.0</th>\n",
       "      <th>5.5</th>\n",
       "      <th>6.0</th>\n",
       "      <th>6.5</th>\n",
       "      <th>7.0</th>\n",
       "      <th>7.5</th>\n",
       "      <th>8.5</th>\n",
       "    </tr>\n",
       "    <tr>\n",
       "      <th>luxurious</th>\n",
       "      <th></th>\n",
       "      <th></th>\n",
       "      <th></th>\n",
       "      <th></th>\n",
       "      <th></th>\n",
       "      <th></th>\n",
       "      <th></th>\n",
       "      <th></th>\n",
       "      <th></th>\n",
       "      <th></th>\n",
       "      <th></th>\n",
       "      <th></th>\n",
       "      <th></th>\n",
       "      <th></th>\n",
       "      <th></th>\n",
       "    </tr>\n",
       "  </thead>\n",
       "  <tbody>\n",
       "    <tr>\n",
       "      <th>0</th>\n",
       "      <td>52</td>\n",
       "      <td>36</td>\n",
       "      <td>39</td>\n",
       "      <td>135</td>\n",
       "      <td>44</td>\n",
       "      <td>200</td>\n",
       "      <td>28</td>\n",
       "      <td>164</td>\n",
       "      <td>3</td>\n",
       "      <td>53</td>\n",
       "      <td>3</td>\n",
       "      <td>13</td>\n",
       "      <td>2</td>\n",
       "      <td>3</td>\n",
       "      <td>1</td>\n",
       "    </tr>\n",
       "    <tr>\n",
       "      <th>1</th>\n",
       "      <td>0</td>\n",
       "      <td>0</td>\n",
       "      <td>0</td>\n",
       "      <td>6</td>\n",
       "      <td>0</td>\n",
       "      <td>3</td>\n",
       "      <td>0</td>\n",
       "      <td>0</td>\n",
       "      <td>0</td>\n",
       "      <td>0</td>\n",
       "      <td>0</td>\n",
       "      <td>1</td>\n",
       "      <td>0</td>\n",
       "      <td>0</td>\n",
       "      <td>0</td>\n",
       "    </tr>\n",
       "  </tbody>\n",
       "</table>\n",
       "</div>"
      ],
      "text/plain": [
       "rooms      1.0  1.5  2.0  2.5  3.0  3.5  4.0  4.5  5.0  5.5  6.0  6.5  7.0  \\\n",
       "luxurious                                                                    \n",
       "0           52   36   39  135   44  200   28  164    3   53    3   13    2   \n",
       "1            0    0    0    6    0    3    0    0    0    0    0    1    0   \n",
       "\n",
       "rooms      7.5  8.5  \n",
       "luxurious            \n",
       "0            3    1  \n",
       "1            0    0  "
      ]
     },
     "execution_count": 16,
     "metadata": {},
     "output_type": "execute_result"
    }
   ],
   "source": [
    "pd.crosstab(df['luxurious'], df['rooms'])"
   ]
  },
  {
   "cell_type": "markdown",
   "metadata": {},
   "source": [
    "### Pivot tables"
   ]
  },
  {
   "cell_type": "code",
   "execution_count": 17,
   "metadata": {},
   "outputs": [
    {
     "data": {
      "text/html": [
       "<div>\n",
       "<style scoped>\n",
       "    .dataframe tbody tr th:only-of-type {\n",
       "        vertical-align: middle;\n",
       "    }\n",
       "\n",
       "    .dataframe tbody tr th {\n",
       "        vertical-align: top;\n",
       "    }\n",
       "\n",
       "    .dataframe thead tr th {\n",
       "        text-align: left;\n",
       "    }\n",
       "\n",
       "    .dataframe thead tr:last-of-type th {\n",
       "        text-align: right;\n",
       "    }\n",
       "</style>\n",
       "<table border=\"1\" class=\"dataframe\">\n",
       "  <thead>\n",
       "    <tr>\n",
       "      <th></th>\n",
       "      <th></th>\n",
       "      <th colspan=\"2\" halign=\"left\">area</th>\n",
       "      <th colspan=\"2\" halign=\"left\">price</th>\n",
       "      <th colspan=\"2\" halign=\"left\">price_per_m2</th>\n",
       "    </tr>\n",
       "    <tr>\n",
       "      <th></th>\n",
       "      <th></th>\n",
       "      <th>count</th>\n",
       "      <th>mean</th>\n",
       "      <th>count</th>\n",
       "      <th>mean</th>\n",
       "      <th>count</th>\n",
       "      <th>mean</th>\n",
       "    </tr>\n",
       "    <tr>\n",
       "      <th>rooms</th>\n",
       "      <th>luxurious</th>\n",
       "      <th></th>\n",
       "      <th></th>\n",
       "      <th></th>\n",
       "      <th></th>\n",
       "      <th></th>\n",
       "      <th></th>\n",
       "    </tr>\n",
       "  </thead>\n",
       "  <tbody>\n",
       "    <tr>\n",
       "      <th>1.0</th>\n",
       "      <th>0</th>\n",
       "      <td>52</td>\n",
       "      <td>32.057692</td>\n",
       "      <td>52</td>\n",
       "      <td>1306.346154</td>\n",
       "      <td>52</td>\n",
       "      <td>50.168077</td>\n",
       "    </tr>\n",
       "    <tr>\n",
       "      <th>1.5</th>\n",
       "      <th>0</th>\n",
       "      <td>36</td>\n",
       "      <td>35.333333</td>\n",
       "      <td>36</td>\n",
       "      <td>2110.166667</td>\n",
       "      <td>36</td>\n",
       "      <td>65.455000</td>\n",
       "    </tr>\n",
       "    <tr>\n",
       "      <th>2.0</th>\n",
       "      <th>0</th>\n",
       "      <td>39</td>\n",
       "      <td>54.589744</td>\n",
       "      <td>39</td>\n",
       "      <td>2155.846154</td>\n",
       "      <td>39</td>\n",
       "      <td>42.528462</td>\n",
       "    </tr>\n",
       "    <tr>\n",
       "      <th rowspan=\"2\" valign=\"top\">2.5</th>\n",
       "      <th>0</th>\n",
       "      <td>135</td>\n",
       "      <td>66.800000</td>\n",
       "      <td>135</td>\n",
       "      <td>2382.755556</td>\n",
       "      <td>135</td>\n",
       "      <td>37.010000</td>\n",
       "    </tr>\n",
       "    <tr>\n",
       "      <th>1</th>\n",
       "      <td>6</td>\n",
       "      <td>72.166667</td>\n",
       "      <td>6</td>\n",
       "      <td>3339.500000</td>\n",
       "      <td>6</td>\n",
       "      <td>45.978333</td>\n",
       "    </tr>\n",
       "    <tr>\n",
       "      <th>3.0</th>\n",
       "      <th>0</th>\n",
       "      <td>44</td>\n",
       "      <td>68.159091</td>\n",
       "      <td>44</td>\n",
       "      <td>1964.022727</td>\n",
       "      <td>44</td>\n",
       "      <td>28.677955</td>\n",
       "    </tr>\n",
       "    <tr>\n",
       "      <th rowspan=\"2\" valign=\"top\">3.5</th>\n",
       "      <th>0</th>\n",
       "      <td>200</td>\n",
       "      <td>89.770000</td>\n",
       "      <td>200</td>\n",
       "      <td>2648.980000</td>\n",
       "      <td>200</td>\n",
       "      <td>29.494700</td>\n",
       "    </tr>\n",
       "    <tr>\n",
       "      <th>1</th>\n",
       "      <td>3</td>\n",
       "      <td>101.666667</td>\n",
       "      <td>3</td>\n",
       "      <td>6036.666667</td>\n",
       "      <td>3</td>\n",
       "      <td>59.826667</td>\n",
       "    </tr>\n",
       "    <tr>\n",
       "      <th>4.0</th>\n",
       "      <th>0</th>\n",
       "      <td>28</td>\n",
       "      <td>98.464286</td>\n",
       "      <td>28</td>\n",
       "      <td>2852.357143</td>\n",
       "      <td>28</td>\n",
       "      <td>29.646429</td>\n",
       "    </tr>\n",
       "    <tr>\n",
       "      <th>4.5</th>\n",
       "      <th>0</th>\n",
       "      <td>164</td>\n",
       "      <td>115.060976</td>\n",
       "      <td>164</td>\n",
       "      <td>3067.847561</td>\n",
       "      <td>164</td>\n",
       "      <td>26.332622</td>\n",
       "    </tr>\n",
       "    <tr>\n",
       "      <th>5.0</th>\n",
       "      <th>0</th>\n",
       "      <td>3</td>\n",
       "      <td>108.000000</td>\n",
       "      <td>3</td>\n",
       "      <td>2881.666667</td>\n",
       "      <td>3</td>\n",
       "      <td>26.376667</td>\n",
       "    </tr>\n",
       "    <tr>\n",
       "      <th>5.5</th>\n",
       "      <th>0</th>\n",
       "      <td>53</td>\n",
       "      <td>153.811321</td>\n",
       "      <td>53</td>\n",
       "      <td>3523.094340</td>\n",
       "      <td>53</td>\n",
       "      <td>23.143396</td>\n",
       "    </tr>\n",
       "    <tr>\n",
       "      <th>6.0</th>\n",
       "      <th>0</th>\n",
       "      <td>3</td>\n",
       "      <td>667.666667</td>\n",
       "      <td>3</td>\n",
       "      <td>3833.333333</td>\n",
       "      <td>3</td>\n",
       "      <td>15.706667</td>\n",
       "    </tr>\n",
       "    <tr>\n",
       "      <th rowspan=\"2\" valign=\"top\">6.5</th>\n",
       "      <th>0</th>\n",
       "      <td>13</td>\n",
       "      <td>253.000000</td>\n",
       "      <td>13</td>\n",
       "      <td>4077.461538</td>\n",
       "      <td>13</td>\n",
       "      <td>21.676154</td>\n",
       "    </tr>\n",
       "    <tr>\n",
       "      <th>1</th>\n",
       "      <td>1</td>\n",
       "      <td>300.000000</td>\n",
       "      <td>1</td>\n",
       "      <td>11.000000</td>\n",
       "      <td>1</td>\n",
       "      <td>0.040000</td>\n",
       "    </tr>\n",
       "    <tr>\n",
       "      <th>7.0</th>\n",
       "      <th>0</th>\n",
       "      <td>2</td>\n",
       "      <td>175.000000</td>\n",
       "      <td>2</td>\n",
       "      <td>6350.000000</td>\n",
       "      <td>2</td>\n",
       "      <td>36.325000</td>\n",
       "    </tr>\n",
       "    <tr>\n",
       "      <th>7.5</th>\n",
       "      <th>0</th>\n",
       "      <td>3</td>\n",
       "      <td>205.000000</td>\n",
       "      <td>3</td>\n",
       "      <td>4765.000000</td>\n",
       "      <td>3</td>\n",
       "      <td>23.273333</td>\n",
       "    </tr>\n",
       "    <tr>\n",
       "      <th>8.5</th>\n",
       "      <th>0</th>\n",
       "      <td>1</td>\n",
       "      <td>210.000000</td>\n",
       "      <td>1</td>\n",
       "      <td>8500.000000</td>\n",
       "      <td>1</td>\n",
       "      <td>40.480000</td>\n",
       "    </tr>\n",
       "  </tbody>\n",
       "</table>\n",
       "</div>"
      ],
      "text/plain": [
       "                 area             price              price_per_m2           \n",
       "                count        mean count         mean        count       mean\n",
       "rooms luxurious                                                             \n",
       "1.0   0            52   32.057692    52  1306.346154           52  50.168077\n",
       "1.5   0            36   35.333333    36  2110.166667           36  65.455000\n",
       "2.0   0            39   54.589744    39  2155.846154           39  42.528462\n",
       "2.5   0           135   66.800000   135  2382.755556          135  37.010000\n",
       "      1             6   72.166667     6  3339.500000            6  45.978333\n",
       "3.0   0            44   68.159091    44  1964.022727           44  28.677955\n",
       "3.5   0           200   89.770000   200  2648.980000          200  29.494700\n",
       "      1             3  101.666667     3  6036.666667            3  59.826667\n",
       "4.0   0            28   98.464286    28  2852.357143           28  29.646429\n",
       "4.5   0           164  115.060976   164  3067.847561          164  26.332622\n",
       "5.0   0             3  108.000000     3  2881.666667            3  26.376667\n",
       "5.5   0            53  153.811321    53  3523.094340           53  23.143396\n",
       "6.0   0             3  667.666667     3  3833.333333            3  15.706667\n",
       "6.5   0            13  253.000000    13  4077.461538           13  21.676154\n",
       "      1             1  300.000000     1    11.000000            1   0.040000\n",
       "7.0   0             2  175.000000     2  6350.000000            2  36.325000\n",
       "7.5   0             3  205.000000     3  4765.000000            3  23.273333\n",
       "8.5   0             1  210.000000     1  8500.000000            1  40.480000"
      ]
     },
     "execution_count": 17,
     "metadata": {},
     "output_type": "execute_result"
    }
   ],
   "source": [
    "# Using pivot_table to reshape the data and calculate means \n",
    "pd.pivot_table(df[['rooms', 'price', 'price_per_m2', 'area', 'luxurious']],\n",
    "               index=['rooms', 'luxurious'],\n",
    "               values=['price', 'price_per_m2', 'area'],\n",
    "               aggfunc=(np.mean, 'count'))"
   ]
  },
  {
   "cell_type": "markdown",
   "metadata": {},
   "source": [
    "### Correlation matrix"
   ]
  },
  {
   "cell_type": "code",
   "execution_count": 18,
   "metadata": {},
   "outputs": [
    {
     "data": {
      "text/html": [
       "<div>\n",
       "<style scoped>\n",
       "    .dataframe tbody tr th:only-of-type {\n",
       "        vertical-align: middle;\n",
       "    }\n",
       "\n",
       "    .dataframe tbody tr th {\n",
       "        vertical-align: top;\n",
       "    }\n",
       "\n",
       "    .dataframe thead th {\n",
       "        text-align: right;\n",
       "    }\n",
       "</style>\n",
       "<table border=\"1\" class=\"dataframe\">\n",
       "  <thead>\n",
       "    <tr style=\"text-align: right;\">\n",
       "      <th></th>\n",
       "      <th>rooms</th>\n",
       "      <th>area</th>\n",
       "      <th>price</th>\n",
       "      <th>price_per_m2</th>\n",
       "      <th>pop_dens</th>\n",
       "      <th>frg_pct</th>\n",
       "    </tr>\n",
       "  </thead>\n",
       "  <tbody>\n",
       "    <tr>\n",
       "      <th>rooms</th>\n",
       "      <td>1.000000</td>\n",
       "      <td>0.994278</td>\n",
       "      <td>0.489308</td>\n",
       "      <td>-0.529276</td>\n",
       "      <td>-0.635035</td>\n",
       "      <td>-0.717159</td>\n",
       "    </tr>\n",
       "    <tr>\n",
       "      <th>area</th>\n",
       "      <td>0.994278</td>\n",
       "      <td>1.000000</td>\n",
       "      <td>0.554403</td>\n",
       "      <td>-0.460172</td>\n",
       "      <td>-0.569562</td>\n",
       "      <td>-0.657421</td>\n",
       "    </tr>\n",
       "    <tr>\n",
       "      <th>price</th>\n",
       "      <td>0.489308</td>\n",
       "      <td>0.554403</td>\n",
       "      <td>1.000000</td>\n",
       "      <td>0.480956</td>\n",
       "      <td>0.362619</td>\n",
       "      <td>0.256582</td>\n",
       "    </tr>\n",
       "    <tr>\n",
       "      <th>price_per_m2</th>\n",
       "      <td>-0.529276</td>\n",
       "      <td>-0.460172</td>\n",
       "      <td>0.480956</td>\n",
       "      <td>1.000000</td>\n",
       "      <td>0.991165</td>\n",
       "      <td>0.970554</td>\n",
       "    </tr>\n",
       "    <tr>\n",
       "      <th>pop_dens</th>\n",
       "      <td>-0.635035</td>\n",
       "      <td>-0.569562</td>\n",
       "      <td>0.362619</td>\n",
       "      <td>0.991165</td>\n",
       "      <td>1.000000</td>\n",
       "      <td>0.993760</td>\n",
       "    </tr>\n",
       "    <tr>\n",
       "      <th>frg_pct</th>\n",
       "      <td>-0.717159</td>\n",
       "      <td>-0.657421</td>\n",
       "      <td>0.256582</td>\n",
       "      <td>0.970554</td>\n",
       "      <td>0.993760</td>\n",
       "      <td>1.000000</td>\n",
       "    </tr>\n",
       "  </tbody>\n",
       "</table>\n",
       "</div>"
      ],
      "text/plain": [
       "                 rooms      area     price  price_per_m2  pop_dens   frg_pct\n",
       "rooms         1.000000  0.994278  0.489308     -0.529276 -0.635035 -0.717159\n",
       "area          0.994278  1.000000  0.554403     -0.460172 -0.569562 -0.657421\n",
       "price         0.489308  0.554403  1.000000      0.480956  0.362619  0.256582\n",
       "price_per_m2 -0.529276 -0.460172  0.480956      1.000000  0.991165  0.970554\n",
       "pop_dens     -0.635035 -0.569562  0.362619      0.991165  1.000000  0.993760\n",
       "frg_pct      -0.717159 -0.657421  0.256582      0.970554  0.993760  1.000000"
      ]
     },
     "execution_count": 18,
     "metadata": {},
     "output_type": "execute_result"
    }
   ],
   "source": [
    "corr = df[['rooms', \n",
    "          'area', \n",
    "          'price', \n",
    "          'price_per_m2',\n",
    "          'pop_dens',\n",
    "          'frg_pct']].cov().corr()\n",
    "corr"
   ]
  },
  {
   "cell_type": "markdown",
   "metadata": {},
   "source": [
    "### Covariance matrix"
   ]
  },
  {
   "cell_type": "code",
   "execution_count": 19,
   "metadata": {},
   "outputs": [
    {
     "data": {
      "text/html": [
       "<div>\n",
       "<style scoped>\n",
       "    .dataframe tbody tr th:only-of-type {\n",
       "        vertical-align: middle;\n",
       "    }\n",
       "\n",
       "    .dataframe tbody tr th {\n",
       "        vertical-align: top;\n",
       "    }\n",
       "\n",
       "    .dataframe thead th {\n",
       "        text-align: right;\n",
       "    }\n",
       "</style>\n",
       "<table border=\"1\" class=\"dataframe\">\n",
       "  <thead>\n",
       "    <tr style=\"text-align: right;\">\n",
       "      <th></th>\n",
       "      <th>rooms</th>\n",
       "      <th>area</th>\n",
       "      <th>price</th>\n",
       "      <th>price_per_m2</th>\n",
       "      <th>pop_dens</th>\n",
       "      <th>frg_pct</th>\n",
       "    </tr>\n",
       "  </thead>\n",
       "  <tbody>\n",
       "    <tr>\n",
       "      <th>rooms</th>\n",
       "      <td>1.701832</td>\n",
       "      <td>53.983072</td>\n",
       "      <td>7.535699e+02</td>\n",
       "      <td>-10.918122</td>\n",
       "      <td>-7.421349e+02</td>\n",
       "      <td>-2.844866</td>\n",
       "    </tr>\n",
       "    <tr>\n",
       "      <th>area</th>\n",
       "      <td>53.983072</td>\n",
       "      <td>5743.597733</td>\n",
       "      <td>3.395904e+04</td>\n",
       "      <td>-432.361623</td>\n",
       "      <td>-2.592857e+04</td>\n",
       "      <td>-138.172149</td>\n",
       "    </tr>\n",
       "    <tr>\n",
       "      <th>price</th>\n",
       "      <td>753.569925</td>\n",
       "      <td>33959.041022</td>\n",
       "      <td>1.661713e+06</td>\n",
       "      <td>5774.838303</td>\n",
       "      <td>6.157488e+05</td>\n",
       "      <td>794.060532</td>\n",
       "    </tr>\n",
       "    <tr>\n",
       "      <th>price_per_m2</th>\n",
       "      <td>-10.918122</td>\n",
       "      <td>-432.361623</td>\n",
       "      <td>5.774838e+03</td>\n",
       "      <td>293.839203</td>\n",
       "      <td>1.750019e+04</td>\n",
       "      <td>43.945653</td>\n",
       "    </tr>\n",
       "    <tr>\n",
       "      <th>pop_dens</th>\n",
       "      <td>-742.134930</td>\n",
       "      <td>-25928.569102</td>\n",
       "      <td>6.157488e+05</td>\n",
       "      <td>17500.189962</td>\n",
       "      <td>3.055641e+06</td>\n",
       "      <td>8736.395054</td>\n",
       "    </tr>\n",
       "    <tr>\n",
       "      <th>frg_pct</th>\n",
       "      <td>-2.844866</td>\n",
       "      <td>-138.172149</td>\n",
       "      <td>7.940605e+02</td>\n",
       "      <td>43.945653</td>\n",
       "      <td>8.736395e+03</td>\n",
       "      <td>57.638648</td>\n",
       "    </tr>\n",
       "  </tbody>\n",
       "</table>\n",
       "</div>"
      ],
      "text/plain": [
       "                   rooms          area         price  price_per_m2  \\\n",
       "rooms           1.701832     53.983072  7.535699e+02    -10.918122   \n",
       "area           53.983072   5743.597733  3.395904e+04   -432.361623   \n",
       "price         753.569925  33959.041022  1.661713e+06   5774.838303   \n",
       "price_per_m2  -10.918122   -432.361623  5.774838e+03    293.839203   \n",
       "pop_dens     -742.134930 -25928.569102  6.157488e+05  17500.189962   \n",
       "frg_pct        -2.844866   -138.172149  7.940605e+02     43.945653   \n",
       "\n",
       "                  pop_dens      frg_pct  \n",
       "rooms        -7.421349e+02    -2.844866  \n",
       "area         -2.592857e+04  -138.172149  \n",
       "price         6.157488e+05   794.060532  \n",
       "price_per_m2  1.750019e+04    43.945653  \n",
       "pop_dens      3.055641e+06  8736.395054  \n",
       "frg_pct       8.736395e+03    57.638648  "
      ]
     },
     "execution_count": 19,
     "metadata": {},
     "output_type": "execute_result"
    }
   ],
   "source": [
    "cov = df[['rooms', \n",
    "          'area', \n",
    "          'price', \n",
    "          'price_per_m2',\n",
    "          'pop_dens',\n",
    "          'frg_pct']].cov()\n",
    "cov"
   ]
  },
  {
   "cell_type": "markdown",
   "metadata": {},
   "source": [
    "## Univariate graphical exploratory data analysis (EDA)"
   ]
  },
  {
   "cell_type": "markdown",
   "metadata": {},
   "source": [
    "### Line chart (matplotlib)"
   ]
  },
  {
   "cell_type": "code",
   "execution_count": 20,
   "metadata": {},
   "outputs": [
    {
     "data": {
      "image/png": "[encoded data removed]",
      "text/plain": [
       "<Figure size 700x400 with 1 Axes>"
      ]
     },
     "metadata": {},
     "output_type": "display_data"
    }
   ],
   "source": [
    "# Generate some useful values (time series)\n",
    "x = [1990, 1995, 2000, 2005, 2010, 2015, 2020, 2025]\n",
    "y = [100, 125, 156, 167, 175, 215, 230, 255]\n",
    "\n",
    "# Create figure\n",
    "fig = plt.figure(figsize=(7,4))\n",
    "plt.plot(x, y, color=\"green\")\n",
    "plt.title('Development of rental apartment prices', fontsize=12)\n",
    "plt.xlabel('year', fontsize=10)\n",
    "plt.ylabel('price index (1990 = 100%)', fontsize=10)\n",
    "plt.xticks(fontsize=10)\n",
    "plt.yticks(fontsize=10)\n",
    "\n",
    "plt.show()"
   ]
  },
  {
   "cell_type": "markdown",
   "metadata": {},
   "source": [
    "### Boxplot (seaborn)"
   ]
  },
  {
   "cell_type": "code",
   "execution_count": 10,
   "metadata": {},
   "outputs": [
    {
     "data": {
      "text/plain": [
       "<Axes: xlabel='price_per_m2'>"
      ]
     },
     "execution_count": 10,
     "metadata": {},
     "output_type": "execute_result"
    },
    {
     "data": {
      "image/png": "[encoded data removed]",
      "text/plain": [
       "<Figure size 800x120 with 1 Axes>"
      ]
     },
     "metadata": {},
     "output_type": "display_data"
    }
   ],
   "source": [
    "plt.figure(figsize=(8,1.2))\n",
    "plt.ticklabel_format(style='plain')\n",
    "sns.boxplot(x=df['price_per_m2'], color=\"greenyellow\")"
   ]
  },
  {
   "cell_type": "markdown",
   "metadata": {},
   "source": [
    "### Histogram  (matplotlib)"
   ]
  },
  {
   "cell_type": "code",
   "execution_count": 12,
   "metadata": {},
   "outputs": [
    {
     "data": {
      "image/png": "[encoded data removed]",
      "text/plain": [
       "<Figure size 700x400 with 1 Axes>"
      ]
     },
     "metadata": {},
     "output_type": "display_data"
    }
   ],
   "source": [
    "import matplotlib.pyplot as plt\n",
    "import numpy as np\n",
    "\n",
    "# Plot Histogram\n",
    "fig = plt.figure( figsize=(7,4))\n",
    "\n",
    "plt.xticks(fontsize=14, rotation=0)\n",
    "plt.yticks(fontsize=14, rotation=0)\n",
    "\n",
    "n, bins, patches = plt.hist(x=df['area'], \n",
    "                            bins=25, \n",
    "                            color='#42AD12',\n",
    "                            alpha=0.5, \n",
    "                            rwidth=0.95\n",
    "                   )\n",
    "plt.grid(True)\n",
    "plt.ticklabel_format(style='plain')\n",
    "plt.grid(axis='y', alpha=0.75)\n",
    "\n",
    "# Set labels\n",
    "plt.xlabel('Area', fontsize=10, labelpad=10)\n",
    "plt.ylabel('Number of apartments', fontsize=10, labelpad=10)\n",
    "plt.title('Histogram of area', fontsize=12, pad=10)\n",
    "\n",
    "# Set fontsize of tick labels\n",
    "plt.xticks(fontsize = 10)\n",
    "plt.yticks(fontsize = 10)\n",
    "\n",
    "plt.show()"
   ]
  },
  {
   "cell_type": "markdown",
   "metadata": {},
   "source": [
    "### Density plot  (seaborn)"
   ]
  },
  {
   "cell_type": "code",
   "execution_count": 11,
   "metadata": {},
   "outputs": [
    {
     "data": {
      "image/png": "[encoded data removed]",
      "text/plain": [
       "<Figure size 700x400 with 1 Axes>"
      ]
     },
     "metadata": {},
     "output_type": "display_data"
    }
   ],
   "source": [
    "plt.figure(figsize=(7,4))\n",
    "sns.distplot(df['price_per_m2'], \n",
    "             hist=True, \n",
    "             kde=True, \n",
    "             bins=20, \n",
    "             color = 'green',\n",
    "             hist_kws={'edgecolor':'black'},\n",
    "             kde_kws={'linewidth': 2},\n",
    "            )\n",
    "plt.title('Density plot price per m2', fontsize=12, pad=10)\n",
    "plt.xlabel('price_per_m2', fontsize=12, labelpad=10)\n",
    "plt.ylabel('Density', fontsize=12, labelpad=10)\n",
    "plt.grid(True)\n",
    "plt.show()"
   ]
  },
  {
   "cell_type": "markdown",
   "metadata": {},
   "source": [
    "### Quantile-Quantile (QQ-) plot"
   ]
  },
  {
   "cell_type": "code",
   "execution_count": 23,
   "metadata": {},
   "outputs": [
    {
     "name": "stdout",
     "output_type": "stream",
     "text": [
      "       area        var\n",
      "682     8.0  -1.114000\n",
      "185    10.0  -1.087610\n",
      "107    11.0  -1.074415\n",
      "190    14.0  -1.034830\n",
      "52     15.0  -1.021636\n",
      "..      ...        ...\n",
      "445   282.0   2.501418\n",
      "404   300.0   2.738927\n",
      "762   585.0   6.499490\n",
      "511   863.0  10.167688\n",
      "584  1633.0  20.327806\n",
      "\n",
      "[786 rows x 2 columns]\n"
     ]
    },
    {
     "data": {
      "image/png": "[encoded data removed]",
      "text/plain": [
       "<Figure size 640x480 with 1 Axes>"
      ]
     },
     "metadata": {},
     "output_type": "display_data"
    }
   ],
   "source": [
    "# Variable (standardized)\n",
    "x = 'area'\n",
    "df_qq = df\n",
    "df_qq['var'] = (df[x]-df[x].mean()) / df[x].std()\n",
    "print(df_qq.sort_values('var')[['area', 'var']])\n",
    "    \n",
    "# Plot\n",
    "sm.qqplot(df_qq['var'], line ='45')\n",
    "py.show()"
   ]
  },
  {
   "cell_type": "markdown",
   "metadata": {},
   "source": [
    "### Barchart  (matplotlib)"
   ]
  },
  {
   "cell_type": "code",
   "execution_count": 24,
   "metadata": {},
   "outputs": [
    {
     "data": {
      "text/plain": [
       "[8.5, 7.0, 7.5, 5.0, 6.0, 6.5, 4.0, 1.5, 2.0, 3.0, 1.0, 5.5, 2.5, 4.5, 3.5]"
      ]
     },
     "execution_count": 24,
     "metadata": {},
     "output_type": "execute_result"
    }
   ],
   "source": [
    "# Group data by rooms (only the topmost 15 values are shown)\n",
    "df_bar = df['rooms'].value_counts().nlargest(15).sort_values(ascending=True)\n",
    "\n",
    "# Values for barchart\n",
    "napart = list(df_bar.values)\n",
    "index = list(df_bar.index.values)\n",
    "index"
   ]
  },
  {
   "cell_type": "code",
   "execution_count": 12,
   "metadata": {},
   "outputs": [
    {
     "data": {
      "image/png": "[encoded data removed]",
      "text/plain": [
       "<Figure size 700x400 with 1 Axes>"
      ]
     },
     "metadata": {},
     "output_type": "display_data"
    }
   ],
   "source": [
    "# Group data by rooms (only the topmost 15 values are shown)\n",
    "df_bar = df['rooms'].value_counts().nlargest(15).sort_values(ascending=True)\n",
    "\n",
    "# Values for barchart\n",
    "napart = list(df_bar.values)\n",
    "index = list(df_bar.index.values)\n",
    "y_pos = np.arange(len(index))\n",
    "\n",
    "# Figure\n",
    "fig, ax = plt.subplots(figsize=(7,4))\n",
    "ax.barh(y_pos, napart, align='center', color='g', alpha=0.8)\n",
    "ax.set_yticks(y_pos, index)\n",
    "ax.set_xlabel('Number of apartments', fontsize=10)\n",
    "ax.set_ylabel('Rooms', fontsize=10)\n",
    "\n",
    "# Show graph\n",
    "plt.show()"
   ]
  },
  {
   "cell_type": "markdown",
   "metadata": {},
   "source": [
    "### Piechart (matplotlib)"
   ]
  },
  {
   "cell_type": "code",
   "execution_count": 26,
   "metadata": {},
   "outputs": [
    {
     "data": {
      "image/png": "[encoded data removed]",
      "text/plain": [
       "<Figure size 500x500 with 1 Axes>"
      ]
     },
     "metadata": {},
     "output_type": "display_data"
    }
   ],
   "source": [
    "# Group data by rooms (only the 8 most frequently occurencies by rooms)\n",
    "df_bar = df.rooms.value_counts().nlargest(8).sort_values(ascending=True)\n",
    "\n",
    "# Simple bar chart\n",
    "sizes = list(df_bar.values)\n",
    "labels = list(df_bar.index.values)\n",
    "explode = (0, 0, 0, 0, 0.0, 0, 0, 0.1) # increases distance of pieces\n",
    "\n",
    "fig1, ax1 = plt.subplots(figsize=(5,5))\n",
    "ax1.pie(sizes, \n",
    "        labels=labels, \n",
    "        explode=explode,\n",
    "        autopct='%1.1f%%',\n",
    "        shadow=False, \n",
    "        startangle=90)\n",
    "ax1.axis('equal')  # ensures that pie is drawn as a circle.\n",
    "\n",
    "plt.show()"
   ]
  },
  {
   "cell_type": "markdown",
   "metadata": {},
   "source": [
    "## Multivariate graphical exploratory data analysis (EDA)"
   ]
  },
  {
   "cell_type": "markdown",
   "metadata": {},
   "source": [
    "### Scatterplot (matplotlib)"
   ]
  },
  {
   "cell_type": "code",
   "execution_count": 27,
   "metadata": {},
   "outputs": [
    {
     "data": {
      "image/png": "[encoded data removed]",
      "text/plain": [
       "<Figure size 700x400 with 1 Axes>"
      ]
     },
     "metadata": {},
     "output_type": "display_data"
    }
   ],
   "source": [
    "plt.figure(figsize=(7,4))\n",
    "plt.scatter(df['area'], \n",
    "           df['price'], \n",
    "           color=\"green\", \n",
    "           alpha=1.0,\n",
    "           s=10)\n",
    "plt.title('Scatterplot', fontsize=12)\n",
    "plt.xlabel('area (m2)')\n",
    "plt.ylabel('price (CHF)')\n",
    "plt.show()"
   ]
  },
  {
   "cell_type": "markdown",
   "metadata": {},
   "source": [
    "### Scatterplot (matplotlib) with regression line"
   ]
  },
  {
   "cell_type": "code",
   "execution_count": 13,
   "metadata": {},
   "outputs": [
    {
     "name": "stdout",
     "output_type": "stream",
     "text": [
      "(769, 16)\n",
      "5.842687833767077\n",
      "2149.0487159317886\n"
     ]
    },
    {
     "data": {
      "image/png": "[encoded data removed]",
      "text/plain": [
       "<Figure size 700x400 with 1 Axes>"
      ]
     },
     "metadata": {},
     "output_type": "display_data"
    }
   ],
   "source": [
    "# Subset\n",
    "df_sub = df.loc[(df.price >= 1000)]\n",
    "print(df_sub.shape)\n",
    "\n",
    "# Scatterplot\n",
    "plt.figure(figsize=(7,4))\n",
    "plt.plot(df_sub.area, \n",
    "         df_sub.price, \n",
    "         'o', \n",
    "         markersize=3.5,\n",
    "         color=\"green\")\n",
    "\n",
    "# Regression line (b = slope, a=intercept)\n",
    "b, a = np.polyfit(df_sub.area, df_sub.price, 1)\n",
    "print(b)\n",
    "print(a)\n",
    "\n",
    "# Plot regression line\n",
    "plt.plot(df_sub.area, \n",
    "         b*df_sub.area + a, \n",
    "         linewidth=1,\n",
    "         linestyle='dashed',\n",
    "         color='darkred')\n",
    "\n",
    "# Add title and axes labels\n",
    "plt.title('Scatterplot with regression line', fontsize=12)\n",
    "plt.ylabel('price', fontsize=12)\n",
    "plt.xlabel('area', fontsize=12)\n",
    "\n",
    "# Set fontsize of tick labels\n",
    "plt.xticks(fontsize = 10)\n",
    "plt.yticks(fontsize = 10)\n",
    "\n",
    "plt.show()"
   ]
  },
  {
   "cell_type": "markdown",
   "metadata": {},
   "source": [
    "### Scatterplot-matrix (seaborn)"
   ]
  },
  {
   "cell_type": "code",
   "execution_count": null,
   "metadata": {},
   "outputs": [],
   "source": [
    "sns.set(style=\"ticks\", font_scale=0.8)\n",
    "g = sns.PairGrid(df[['rooms', \n",
    "                     'area', \n",
    "                     'price', \n",
    "                     'price_per_m2',\n",
    "                     'pop_dens',\n",
    "                     'frg_pct']], \n",
    "                 height=1.2, \n",
    "                 aspect=1)\n",
    "g.map_upper(sns.scatterplot,color='darkgreen', s=10)\n",
    "g.map_lower(sns.scatterplot, color='darkgreen', s=10)\n",
    "g.map_diag(plt.hist, color='brown')"
   ]
  },
  {
   "cell_type": "markdown",
   "metadata": {},
   "source": [
    "### Hexagonal binning plot  (matplotlib)"
   ]
  },
  {
   "cell_type": "code",
   "execution_count": null,
   "metadata": {},
   "outputs": [],
   "source": [
    "# Subset\n",
    "df_sub = df.loc[(df.price <= 6000) & (df.area <= 200)]\n",
    "print(df_sub.shape)\n",
    "\n",
    "# Plot\n",
    "fig = plt.figure( figsize=(7,4) )\n",
    "plt.hexbin(df_sub.area, df_sub.price, gridsize=30, cmap='Greens')\n",
    "\n",
    "# Set labels\n",
    "plt.xlabel('area', fontsize=12, labelpad=10)\n",
    "plt.ylabel('price', fontsize=12, labelpad=10)\n",
    "plt.title('Two-dimensional histogram of price versus area', fontsize=12, pad=10)\n",
    "\n",
    "cb = plt.colorbar(label='count in bin')\n",
    "cb.set_label('counts in bin')"
   ]
  },
  {
   "cell_type": "markdown",
   "metadata": {},
   "source": [
    "### Correlation heatmap (seaborn)"
   ]
  },
  {
   "cell_type": "code",
   "execution_count": null,
   "metadata": {},
   "outputs": [],
   "source": [
    "# Set font size for plot\n",
    "sns.set(font_scale=0.8)\n",
    "\n",
    "# Create correlation matrix as the basis for the heatmap\n",
    "plt.figure(figsize=(7,4))\n",
    "corr = df[['rooms', \n",
    "                     'area', \n",
    "                     'price', \n",
    "                     'price_per_m2',\n",
    "                     'pop_dens',\n",
    "                     'frg_pct']].corr().round(2)\n",
    "\n",
    "# Plot heatmap\n",
    "sns.heatmap(corr, \n",
    "            cmap=\"BrBG\", \n",
    "            annot=True)"
   ]
  },
  {
   "cell_type": "markdown",
   "metadata": {},
   "source": [
    "### Bubble plot (seaborn)"
   ]
  },
  {
   "cell_type": "code",
   "execution_count": null,
   "metadata": {},
   "outputs": [],
   "source": [
    "# Subset of df\n",
    "df_sub = df.loc[(df['rooms'] >= 2.5) & (df['rooms'] <= 4.5)]\n",
    "\n",
    "plt.figure(figsize=(7,4))\n",
    "plt.ticklabel_format(style='plain')\n",
    "cmap = sns.cubehelix_palette(dark=.3, light=3, as_cmap=True)\n",
    "\n",
    "ax = sns.scatterplot(x=\"area\", \n",
    "                     y=\"price\",\n",
    "                     size=\"rooms\", # determines bubble size\n",
    "                     hue=\"pop_dens\",  # determines color\n",
    "                     palette=\"Set2\",\n",
    "                     data=df_sub)\n",
    "\n",
    "# Set title and axes\n",
    "ax.set_title('Price vs area', fontsize = 12)\n",
    "ax.set_xlabel('area', fontsize = 10)\n",
    "ax.set_ylabel('price', fontsize = 10)\n",
    "ax.legend([],[], frameon=False) # skip legend"
   ]
  },
  {
   "cell_type": "markdown",
   "metadata": {},
   "source": [
    "### Jupyter notebook --footer info-- (please always provide this at the end of each submitted notebook)"
   ]
  },
  {
   "cell_type": "code",
   "execution_count": null,
   "metadata": {},
   "outputs": [],
   "source": [
    "import os\n",
    "import platform\n",
    "import socket\n",
    "from platform import python_version\n",
    "from datetime import datetime\n",
    "\n",
    "print('-----------------------------------')\n",
    "print(os.name.upper())\n",
    "print(platform.system(), '|', platform.release())\n",
    "print('Datetime:', datetime.now().strftime(\"%Y-%m-%d %H:%M:%S\"))\n",
    "print('Python Version:', python_version())\n",
    "print('-----------------------------------')"
   ]
  }
 ],
 "metadata": {
  "gist": {
   "data": {
    "description": "histogram.ipynb",
    "public": false
   },
   "id": ""
  },
  "interpreter": {
   "hash": "80dd4b6cd41cca4ee92644ecda36a6b995104716f495f2fe281559cced81c062"
  },
  "kernelspec": {
   "display_name": "Python 3 (ipykernel)",
   "language": "python",
   "name": "python3"
  },
  "language_info": {
   "codemirror_mode": {
    "name": "ipython",
    "version": 3
   },
   "file_extension": ".py",
   "mimetype": "text/x-python",
   "name": "python",
   "nbconvert_exporter": "python",
   "pygments_lexer": "ipython3",
   "version": "3.10.13"
  },
  "toc": {
   "base_numbering": 1,
   "nav_menu": {},
   "number_sections": true,
   "sideBar": true,
   "skip_h1_title": false,
   "title_cell": "Table of Contents",
   "title_sidebar": "Contents",
   "toc_cell": false,
   "toc_position": {
    "height": "calc(100% - 180px)",
    "left": "10px",
    "top": "150px",
    "width": "196.075px"
   },
   "toc_section_display": true,
   "toc_window_display": true
  }
 },
 "nbformat": 4,
 "nbformat_minor": 2
}
